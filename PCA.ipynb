{
 "cells": [
  {
   "cell_type": "markdown",
   "metadata": {},
   "source": [
    "# Principal Component Analysis\n",
    "The goal of this question is to build a conceptual understanding of dimensionality reduction using PCA and implement it on a toy dataset. Only have to use numpy and matplotlib for this question."
   ]
  },
  {
   "cell_type": "code",
   "execution_count": 1,
   "metadata": {},
   "outputs": [],
   "source": [
    "import numpy as np\n",
    "import matplotlib\n",
    "import matplotlib.pyplot as plt"
   ]
  },
  {
   "cell_type": "code",
   "execution_count": 2,
   "metadata": {},
   "outputs": [
    {
     "name": "stdout",
     "output_type": "stream",
     "text": [
      "(1, 8) [[0.82530129 0.43214658 1.75852918 0.76061262 1.29681839 1.18787014\n",
      "  1.93816328 1.22044697]]\n",
      "[1. 1. 1. 1. 1. 1. 1. 1.]\n"
     ]
    }
   ],
   "source": [
    "# (a) Load data (features)\n",
    "def load_data():\n",
    "    data = np.load('q3-data/features.npy')\n",
    "    labels = np.load('q3-data/labels.npy')\n",
    "\n",
    "    mean = np.mean(data, axis=0)\n",
    "    mean = np.array(mean, ndmin=2)    \n",
    "    data = np.subtract(data, mean)\n",
    "\n",
    "    mean2 = np.mean(data, axis=0)\n",
    "    stdvn = np.std(data, axis=0)\n",
    "    stdvn = np.array(stdvn, ndmin=2)\n",
    "    print(stdvn.shape, stdvn)\n",
    "\n",
    "    data = data/stdvn\n",
    "    print(np.std(data, axis=0))\n",
    "\n",
    "    return data, labels\n",
    "\n",
    "datafile, labels = load_data()\n"
   ]
  },
  {
   "cell_type": "code",
   "execution_count": 3,
   "metadata": {},
   "outputs": [
    {
     "name": "stdout",
     "output_type": "stream",
     "text": [
      "(150,) int64\n"
     ]
    }
   ],
   "source": [
    "labels = labels.astype(int)\n",
    "print(labels.shape, labels.dtype)\n"
   ]
  },
  {
   "cell_type": "code",
   "execution_count": 4,
   "metadata": {},
   "outputs": [
    {
     "name": "stdout",
     "output_type": "stream",
     "text": [
      "(8, 8) <class 'numpy.ndarray'> [[ 1.00671141 -0.11010327  0.87760486  0.82344326  0.61123001 -0.07220205\n",
      "   0.776564    0.48190166]\n",
      " [-0.11010327  1.00671141 -0.42333835 -0.358937    0.07459068  0.52416995\n",
      "  -0.28731011 -0.06998508]\n",
      " [ 0.87760486 -0.42333835  1.00671141  0.96921855  0.4704054  -0.25019762\n",
      "   0.85445501  0.51042104]\n",
      " [ 0.82344326 -0.358937    0.96921855  1.00671141  0.44634059 -0.21541033\n",
      "   0.8273983   0.54484244]\n",
      " [ 0.61123001  0.07459068  0.4704054   0.44634059  1.00671141  0.70151359\n",
      "   0.84012249  0.93454714]\n",
      " [-0.07220205  0.52416995 -0.25019762 -0.21541033  0.70151359  1.00671141\n",
      "   0.2731165   0.659988  ]\n",
      " [ 0.776564   -0.28731011  0.85445501  0.8273983   0.84012249  0.2731165\n",
      "   1.00671141  0.88321462]\n",
      " [ 0.48190166 -0.06998508  0.51042104  0.54484244  0.93454714  0.659988\n",
      "   0.88321462  1.00671141]]\n",
      "Eigenvectors \n",
      "[[-0.39124937  0.13884872 -0.46160937  0.58034539  0.24934936  0.21747713\n",
      "  -0.38816186  0.1118572 ]\n",
      " [ 0.11687696 -0.4391715  -0.78711289 -0.2905579  -0.12725786  0.02806659\n",
      "   0.21689908  0.15922802]\n",
      " [-0.40655289  0.29080021 -0.13961871 -0.12636707 -0.54994554 -0.61159334\n",
      "  -0.17223991  0.13591601]\n",
      " [-0.39944906  0.26454833 -0.16206048 -0.54404218  0.49904279  0.01470075\n",
      "   0.05047577 -0.44213114]\n",
      " [-0.3778555  -0.35426671  0.07790627  0.42060984  0.12822569 -0.34172774\n",
      "   0.6099293  -0.17576426]\n",
      " [-0.09816172 -0.64299795  0.11941452 -0.04972667 -0.0795516  -0.07714852\n",
      "  -0.59620498 -0.43768069]\n",
      " [-0.45509399 -0.03231459  0.12200908 -0.08034689 -0.51935676  0.67406772\n",
      "   0.18983425 -0.14979985]\n",
      " [-0.38587285 -0.30545597  0.29393481 -0.28457653  0.27864817 -0.02358821\n",
      "  -0.08099129  0.70942501]]\n",
      "\n",
      "Eigenvalues \n",
      "[ 4.74298961e+00  2.29585309e+00  7.76910512e-01  2.04172901e-01\n",
      "  3.37651661e-02 -8.56766184e-16 -1.16776912e-16  5.26888208e-16]\n",
      "[ 4.74298961e+00  2.29585309e+00  7.76910512e-01  2.04172901e-01\n",
      "  3.37651661e-02  5.26888208e-16 -1.16776912e-16 -8.56766184e-16]\n",
      "[[-0.39124937  0.13884872 -0.46160937  0.58034539  0.24934936  0.1118572\n",
      "  -0.38816186  0.21747713]\n",
      " [ 0.11687696 -0.4391715  -0.78711289 -0.2905579  -0.12725786  0.15922802\n",
      "   0.21689908  0.02806659]\n",
      " [-0.40655289  0.29080021 -0.13961871 -0.12636707 -0.54994554  0.13591601\n",
      "  -0.17223991 -0.61159334]\n",
      " [-0.39944906  0.26454833 -0.16206048 -0.54404218  0.49904279 -0.44213114\n",
      "   0.05047577  0.01470075]\n",
      " [-0.3778555  -0.35426671  0.07790627  0.42060984  0.12822569 -0.17576426\n",
      "   0.6099293  -0.34172774]\n",
      " [-0.09816172 -0.64299795  0.11941452 -0.04972667 -0.0795516  -0.43768069\n",
      "  -0.59620498 -0.07714852]\n",
      " [-0.45509399 -0.03231459  0.12200908 -0.08034689 -0.51935676 -0.14979985\n",
      "   0.18983425  0.67406772]\n",
      " [-0.38587285 -0.30545597  0.29393481 -0.28457653  0.27864817  0.70942501\n",
      "  -0.08099129 -0.02358821]]\n"
     ]
    }
   ],
   "source": [
    "# (b) Perform eigen decomposition and return eigen pairs in desecending order of eigen values\n",
    "def eigendecomp(X):\n",
    "    \n",
    "    # covariance matrix:\n",
    "        \n",
    "    # cov_mat = (X - np.mean(X, axis=0)).T.dot((X - np.mean(X, axis=0))) / (X.shape[0]-1)   #verbose way\n",
    "    cov_mat = np.cov(X.T)\n",
    "    print(cov_mat.shape, type(cov_mat), cov_mat)\n",
    "       \n",
    "    # Eigendecomposition on coveriance matrix, cov_mat:\n",
    "    \n",
    "    eig_vals, eig_vecs = np.linalg.eig(cov_mat)\n",
    "    \n",
    "    print('Eigenvectors \\n%s' %eig_vecs)\n",
    "    print('\\nEigenvalues \\n%s' %eig_vals)\n",
    "    \n",
    "    # softing eigenvalues in decreasing order and corresponding eigenvectors:\n",
    "    \n",
    "    idx = eig_vals.argsort()[::-1]\n",
    "    sorted_eig_vals = eig_vals[idx]\n",
    "    sorted_eig_vecs = eig_vecs[:,idx]\n",
    "\n",
    "    return (sorted_eig_vals, sorted_eig_vecs)\n",
    "\n",
    "\n",
    "\n",
    "sorted_evalues, sorted_evectors = eigendecomp(datafile)\n",
    "\n",
    "print(sorted_evalues)\n",
    "print(sorted_evectors)"
   ]
  },
  {
   "cell_type": "code",
   "execution_count": null,
   "metadata": {},
   "outputs": [],
   "source": []
  },
  {
   "cell_type": "code",
   "execution_count": null,
   "metadata": {},
   "outputs": [],
   "source": []
  },
  {
   "cell_type": "markdown",
   "metadata": {},
   "source": [
    "After sorting the eigenpairs, the next question is “how many principal components are we going to choose for our new feature subspace?” \n",
    "A useful measure is the so-called “explained variance,” which can be calculated from the eigenvalues. \n",
    "\n",
    "- The explained variance tells us how much information (variance) can be attributed to each of the principal components.\n"
   ]
  },
  {
   "cell_type": "code",
   "execution_count": 5,
   "metadata": {},
   "outputs": [
    {
     "name": "stdout",
     "output_type": "stream",
     "text": [
      "[EigenValue     Variance     Cumulative_Variance]\n",
      "[[  4.74298961  58.89212098  58.89212098]\n",
      " [  2.29585309  28.50684249  87.39896347]\n",
      " [  0.77691051   9.64663886  97.04560233]\n",
      " [  0.2041729    2.53514686  99.58074919]\n",
      " [  0.03376517   0.41925081 100.        ]\n",
      " [  0.           0.         100.        ]\n",
      " [ -0.          -0.         100.        ]\n",
      " [ -0.          -0.         100.        ]]\n"
     ]
    }
   ],
   "source": [
    "# (c) Evaluate using variance_explained as the metric\n",
    "def eval(sorted_evalues, sorted_evectors):\n",
    "     \n",
    "    tot = sum(sorted_evalues)\n",
    "    var_exp = [(i / tot)*100 for i in sorted(sorted_evalues, reverse=True)]\n",
    "    cum_var_exp = np.cumsum(var_exp)\n",
    "    \n",
    "    var_exp = np.array(var_exp, ndmin=2)\n",
    "    cum_var_exp = np.array(cum_var_exp, ndmin=2)\n",
    "\n",
    "    sorted_evalues = np.array(sorted_evalues, ndmin=2)\n",
    "    np.set_printoptions(suppress=True)\n",
    "    eval_var = np.concatenate((np.array(sorted_evalues.T, ndmin=2), np.array(var_exp.T, ndmin=2)), axis=1)\n",
    "\n",
    "    cum_eval_var = np.concatenate((np.array(eval_var, ndmin=2), np.array(cum_var_exp.T, ndmin=2)), axis=1)    \n",
    "    print(\"[EigenValue     Variance     Cumulative_Variance]\")\n",
    "    print(cum_eval_var)\n",
    "\n",
    "    return var_exp, cum_var_exp\n",
    "    \n",
    "    \n",
    "var, cum_var = eval(sorted_evalues, sorted_evectors)\n",
    "\n",
    "\n",
    "\n",
    "\n",
    "\n",
    "\n"
   ]
  },
  {
   "cell_type": "markdown",
   "metadata": {},
   "source": [
    "I would pick k = 3 for this problem, as it covers 97% of the variance. Remaining of the values are quite insignificant and thus can be left out without much loss of information.\n"
   ]
  },
  {
   "cell_type": "code",
   "execution_count": null,
   "metadata": {},
   "outputs": [],
   "source": [
    "\n"
   ]
  },
  {
   "cell_type": "code",
   "execution_count": null,
   "metadata": {},
   "outputs": [],
   "source": []
  },
  {
   "cell_type": "code",
   "execution_count": null,
   "metadata": {},
   "outputs": [],
   "source": []
  },
  {
   "cell_type": "markdown",
   "metadata": {},
   "source": [
    "The construction of the projection matrix that will be used to transform the Iris data onto the new feature subspace. \n",
    "Although, the name “projection matrix” has a nice ring to it, it is basically just a matrix of our concatenated top k eigenvectors.\n",
    " \n",
    "- Here, we are reducing the 8-dimensional feature space to a 2-dimensional feature subspace, by choosing the “top 2” eigenvectors with the highest eigenvalues to construct our -dimensional eigenvector matrix."
   ]
  },
  {
   "cell_type": "code",
   "execution_count": 6,
   "metadata": {},
   "outputs": [
    {
     "name": "stdout",
     "output_type": "stream",
     "text": [
      "Matrix W:\n",
      " [[-0.39124937  0.13884872]\n",
      " [ 0.11687696 -0.4391715 ]\n",
      " [-0.40655289  0.29080021]\n",
      " [-0.39944906  0.26454833]\n",
      " [-0.3778555  -0.35426671]\n",
      " [-0.09816172 -0.64299795]\n",
      " [-0.45509399 -0.03231459]\n",
      " [-0.38587285 -0.30545597]]\n"
     ]
    }
   ],
   "source": [
    "\n",
    "matrix_w = np.hstack((sorted_evectors[:, 0].reshape(8,1), sorted_evectors[:, 1].reshape(8,1)))\n",
    "print('Matrix W:\\n', matrix_w)\n",
    "\n",
    "Y = datafile.dot(matrix_w)\n"
   ]
  },
  {
   "cell_type": "code",
   "execution_count": null,
   "metadata": {},
   "outputs": [],
   "source": []
  },
  {
   "cell_type": "markdown",
   "metadata": {},
   "source": [
    "In this last step we will use the 8×2-dimensional projection matrix W to transform our samples onto the new subspace via the equation\n",
    "Y=X×W, where Y is a 150×2 matrix of our transformed samples."
   ]
  },
  {
   "cell_type": "code",
   "execution_count": null,
   "metadata": {},
   "outputs": [],
   "source": []
  },
  {
   "cell_type": "code",
   "execution_count": 7,
   "metadata": {},
   "outputs": [
    {
     "data": {
      "image/png": "[encoded data removed]",
      "text/plain": [
       "<matplotlib.figure.Figure at 0x114094908>"
      ]
     },
     "metadata": {},
     "output_type": "display_data"
    }
   ],
   "source": [
    "# (d) Visualize after projecting to 2-D space\n",
    "\n",
    "def viz(Y, y, x):\n",
    "    \n",
    "        plt.figure(figsize=(6, 4))\n",
    "        \n",
    "        for lab, col in zip(( 0, 1, 2), ('blue', 'orange', 'green')):\n",
    "            plt.scatter(Y[y==lab, 0],\n",
    "                        Y[y==lab, 1],\n",
    "                        label=lab,\n",
    "                        c=col)\n",
    "    \n",
    "        plt.xlabel('Principal Component 1')\n",
    "        plt.ylabel('Principal Component 2')\n",
    "        plt.legend(loc='upper right')\n",
    "        plt.tight_layout()\n",
    "        plt.show()\n",
    "    \n",
    "    \n",
    "viz(Y, labels, datafile)"
   ]
  },
  {
   "cell_type": "code",
   "execution_count": 8,
   "metadata": {},
   "outputs": [
    {
     "name": "stdout",
     "output_type": "stream",
     "text": [
      "[EigenValue     Variance     Cumulative_Variance]\n",
      "[[  4.74298961  58.89212098  58.89212098]\n",
      " [  2.29585309  28.50684249  87.39896347]\n",
      " [  0.77691051   9.64663886  97.04560233]\n",
      " [  0.2041729    2.53514686  99.58074919]\n",
      " [  0.03376517   0.41925081 100.        ]\n",
      " [  0.           0.         100.        ]\n",
      " [ -0.          -0.         100.        ]\n",
      " [ -0.          -0.         100.        ]]\n"
     ]
    },
    {
     "data": {
      "image/png": "[encoded data removed]",
      "text/plain": [
       "<matplotlib.figure.Figure at 0x1140b2c88>"
      ]
     },
     "metadata": {},
     "output_type": "display_data"
    }
   ],
   "source": [
    "def main():\n",
    "\n",
    "    eval(sorted_evalues, sorted_evectors)\n",
    "    viz(Y, labels, datafile)\n",
    "\n",
    "if __name__ == \"__main__\":\n",
    "    main()"
   ]
  },
  {
   "cell_type": "markdown",
   "metadata": {},
   "source": [
    "If the number of features is 1000 and the number of data points is 10, what will be the dimension of your covariance matrix? Can you suggest what can be changed to improve the performance?"
   ]
  },
  {
   "cell_type": "markdown",
   "metadata": {},
   "source": [
    "The dimensions of covariance matrix will be \"1000 by 1000\". It is a square matrix for describing covariance between each pair of features. \n",
    "We can decrease the number of features to be less than the number of examples as the majority of covariance is expalined by first few of the eigen vectors. Also, increasing the number of data points always helps to improve performance. \n",
    "\n"
   ]
  },
  {
   "cell_type": "raw",
   "metadata": {},
   "source": []
  },
  {
   "cell_type": "markdown",
   "metadata": {},
   "source": [
    "![title](problem_3_e2.jpg)"
   ]
  },
  {
   "cell_type": "markdown",
   "metadata": {},
   "source": [
    "# References:\n",
    "\n",
    "https://plot.ly/ipython-notebooks/principal-component-analysis/\n",
    "\n",
    "https://sebastianraschka.com/Articles/2014_pca_step_by_step.html\n"
   ]
  }
 ],
 "metadata": {
  "kernelspec": {
   "display_name": "Python 3",
   "language": "python",
   "name": "python3"
  },
  "language_info": {
   "codemirror_mode": {
    "name": "ipython",
    "version": 3
   },
   "file_extension": ".py",
   "mimetype": "text/x-python",
   "name": "python",
   "nbconvert_exporter": "python",
   "pygments_lexer": "ipython3",
   "version": "3.6.4"
  }
 },
 "nbformat": 4,
 "nbformat_minor": 2
}
